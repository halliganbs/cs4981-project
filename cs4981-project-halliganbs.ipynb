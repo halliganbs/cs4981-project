{
 "cells": [
  {
   "cell_type": "markdown",
   "metadata": {},
   "source": [
    "## CS 4981 Term Project: DOTA 2 Game Prediction\n",
    "\n",
    "### Ben Halligan\n",
    "\n",
    "### Introduction\n",
    "In this notebook we will be exploring game data from The DOTA 2 International 9 tornament, played between August 20th - 20th 2019.\n",
    "This data comes from the [<OPENDOTA/>](https://www.opendota.com/) projec, we will explore post game data to try to find trends of winning teams.\n",
    "\n",
    "### Part 1 Loading Data\n",
    "\n",
    "In this section we are loading in the csv and cleaning and changing datatypes to better work with it later."
   ]
  },
  {
   "cell_type": "code",
   "execution_count": 4,
   "metadata": {
    "scrolled": true
   },
   "outputs": [
    {
     "data": {
      "text/html": [
       "<div>\n",
       "<style scoped>\n",
       "    .dataframe tbody tr th:only-of-type {\n",
       "        vertical-align: middle;\n",
       "    }\n",
       "\n",
       "    .dataframe tbody tr th {\n",
       "        vertical-align: top;\n",
       "    }\n",
       "\n",
       "    .dataframe thead th {\n",
       "        text-align: right;\n",
       "    }\n",
       "</style>\n",
       "<table border=\"1\" class=\"dataframe\">\n",
       "  <thead>\n",
       "    <tr style=\"text-align: right;\">\n",
       "      <th></th>\n",
       "      <th>xp_per_min</th>\n",
       "      <th>tower_damage</th>\n",
       "      <th>sen_placed</th>\n",
       "      <th>sen_destroyed</th>\n",
       "      <th>obs_placed</th>\n",
       "      <th>obs_destroyed</th>\n",
       "      <th>lh50</th>\n",
       "      <th>lh40</th>\n",
       "      <th>lh30</th>\n",
       "      <th>lh20</th>\n",
       "      <th>...</th>\n",
       "      <th>dmg_dealt</th>\n",
       "      <th>camps_stacked</th>\n",
       "      <th>buybacks</th>\n",
       "      <th>assists</th>\n",
       "      <th>match_id</th>\n",
       "      <th>start_time</th>\n",
       "      <th>win</th>\n",
       "      <th>hero_id</th>\n",
       "      <th>account_id</th>\n",
       "      <th>leaguename</th>\n",
       "    </tr>\n",
       "  </thead>\n",
       "  <tbody>\n",
       "    <tr>\n",
       "      <th>0</th>\n",
       "      <td>720</td>\n",
       "      <td>8249</td>\n",
       "      <td>1</td>\n",
       "      <td>1</td>\n",
       "      <td>1</td>\n",
       "      <td>1</td>\n",
       "      <td>473</td>\n",
       "      <td>396</td>\n",
       "      <td>263</td>\n",
       "      <td>152</td>\n",
       "      <td>...</td>\n",
       "      <td>45333</td>\n",
       "      <td>2</td>\n",
       "      <td>2</td>\n",
       "      <td>18</td>\n",
       "      <td>4973234250</td>\n",
       "      <td>1566108686</td>\n",
       "      <td>False</td>\n",
       "      <td>42</td>\n",
       "      <td>100471531</td>\n",
       "      <td>The International 2019</td>\n",
       "    </tr>\n",
       "    <tr>\n",
       "      <th>1</th>\n",
       "      <td>624</td>\n",
       "      <td>505</td>\n",
       "      <td>1</td>\n",
       "      <td>3</td>\n",
       "      <td>1</td>\n",
       "      <td>5</td>\n",
       "      <td>309</td>\n",
       "      <td>227</td>\n",
       "      <td>174</td>\n",
       "      <td>107</td>\n",
       "      <td>...</td>\n",
       "      <td>30858</td>\n",
       "      <td>3</td>\n",
       "      <td>1</td>\n",
       "      <td>28</td>\n",
       "      <td>4969288250</td>\n",
       "      <td>1565927125</td>\n",
       "      <td>True</td>\n",
       "      <td>65</td>\n",
       "      <td>184950344</td>\n",
       "      <td>The International 2019</td>\n",
       "    </tr>\n",
       "    <tr>\n",
       "      <th>2</th>\n",
       "      <td>616</td>\n",
       "      <td>654</td>\n",
       "      <td>8</td>\n",
       "      <td>9</td>\n",
       "      <td>3</td>\n",
       "      <td>3</td>\n",
       "      <td>288</td>\n",
       "      <td>205</td>\n",
       "      <td>146</td>\n",
       "      <td>78</td>\n",
       "      <td>...</td>\n",
       "      <td>36108</td>\n",
       "      <td>2</td>\n",
       "      <td>2</td>\n",
       "      <td>17</td>\n",
       "      <td>4967600837</td>\n",
       "      <td>1565834467</td>\n",
       "      <td>True</td>\n",
       "      <td>9</td>\n",
       "      <td>155494381</td>\n",
       "      <td>The International 2019</td>\n",
       "    </tr>\n",
       "    <tr>\n",
       "      <th>3</th>\n",
       "      <td>603</td>\n",
       "      <td>8285</td>\n",
       "      <td>2</td>\n",
       "      <td>2</td>\n",
       "      <td>6</td>\n",
       "      <td>4</td>\n",
       "      <td>234</td>\n",
       "      <td>167</td>\n",
       "      <td>76</td>\n",
       "      <td>28</td>\n",
       "      <td>...</td>\n",
       "      <td>37496</td>\n",
       "      <td>1</td>\n",
       "      <td>3</td>\n",
       "      <td>11</td>\n",
       "      <td>4971157392</td>\n",
       "      <td>1566019029</td>\n",
       "      <td>False</td>\n",
       "      <td>52</td>\n",
       "      <td>139876032</td>\n",
       "      <td>The International 2019</td>\n",
       "    </tr>\n",
       "    <tr>\n",
       "      <th>4</th>\n",
       "      <td>602</td>\n",
       "      <td>976</td>\n",
       "      <td>11</td>\n",
       "      <td>6</td>\n",
       "      <td>7</td>\n",
       "      <td>3</td>\n",
       "      <td>253</td>\n",
       "      <td>144</td>\n",
       "      <td>93</td>\n",
       "      <td>63</td>\n",
       "      <td>...</td>\n",
       "      <td>31819</td>\n",
       "      <td>3</td>\n",
       "      <td>1</td>\n",
       "      <td>24</td>\n",
       "      <td>4969288250</td>\n",
       "      <td>1565927125</td>\n",
       "      <td>True</td>\n",
       "      <td>9</td>\n",
       "      <td>155494381</td>\n",
       "      <td>The International 2019</td>\n",
       "    </tr>\n",
       "  </tbody>\n",
       "</table>\n",
       "<p>5 rows × 29 columns</p>\n",
       "</div>"
      ],
      "text/plain": [
       "   xp_per_min  tower_damage  sen_placed  sen_destroyed  obs_placed  \\\n",
       "0         720          8249           1              1           1   \n",
       "1         624           505           1              3           1   \n",
       "2         616           654           8              9           3   \n",
       "3         603          8285           2              2           6   \n",
       "4         602           976          11              6           7   \n",
       "\n",
       "   obs_destroyed  lh50  lh40  lh30  lh20  ...  dmg_dealt  camps_stacked  \\\n",
       "0              1   473   396   263   152  ...      45333              2   \n",
       "1              5   309   227   174   107  ...      30858              3   \n",
       "2              3   288   205   146    78  ...      36108              2   \n",
       "3              4   234   167    76    28  ...      37496              1   \n",
       "4              3   253   144    93    63  ...      31819              3   \n",
       "\n",
       "   buybacks  assists    match_id  start_time    win  hero_id  account_id  \\\n",
       "0         2       18  4973234250  1566108686  False       42   100471531   \n",
       "1         1       28  4969288250  1565927125   True       65   184950344   \n",
       "2         2       17  4967600837  1565834467   True        9   155494381   \n",
       "3         3       11  4971157392  1566019029  False       52   139876032   \n",
       "4         1       24  4969288250  1565927125   True        9   155494381   \n",
       "\n",
       "               leaguename  \n",
       "0  The International 2019  \n",
       "1  The International 2019  \n",
       "2  The International 2019  \n",
       "3  The International 2019  \n",
       "4  The International 2019  \n",
       "\n",
       "[5 rows x 29 columns]"
      ]
     },
     "execution_count": 4,
     "metadata": {},
     "output_type": "execute_result"
    }
   ],
   "source": [
    "# Dataframes and Arrays\n",
    "import pandas as pd\n",
    "import numpy as np\n",
    "# Graphing\n",
    "import seaborn as sns\n",
    "import matplotlib.pyplot as plt\n",
    "# Linear Regression Stuff\n",
    "from sklearn.linear_model import SGDRegressor\n",
    "from sklearn.metrics import mean_squared_error\n",
    "from sklearn.metrics import accuracy_score\n",
    "from sklearn.metrics import confusion_matrix\n",
    "from sklearn.metrics import log_loss\n",
    "from sklearn.model_selection import train_test_split\n",
    "from sklearn.preprocessing import Imputer\n",
    "from sklearn.preprocessing import StandardScaler\n",
    "from sklearn.preprocessing import LabelEncoder, OneHotEncoder\n",
    "\n",
    "filename = 'data.csv'\n",
    "\n",
    "df = pd.read_csv(filename)\n",
    "df.head()"
   ]
  },
  {
   "cell_type": "code",
   "execution_count": 5,
   "metadata": {},
   "outputs": [
    {
     "name": "stdout",
     "output_type": "stream",
     "text": [
      "<class 'pandas.core.frame.DataFrame'>\n",
      "RangeIndex: 88 entries, 0 to 87\n",
      "Data columns (total 29 columns):\n",
      "xp_per_min       88 non-null int64\n",
      "tower_damage     88 non-null int64\n",
      "sen_placed       88 non-null int64\n",
      "sen_destroyed    88 non-null int64\n",
      "obs_placed       88 non-null int64\n",
      "obs_destroyed    88 non-null int64\n",
      "lh50             88 non-null int64\n",
      "lh40             88 non-null int64\n",
      "lh30             88 non-null int64\n",
      "lh20             88 non-null int64\n",
      "lh10             88 non-null int64\n",
      "last_hits        88 non-null int64\n",
      "kills            88 non-null int64\n",
      "hero_healing     88 non-null int64\n",
      "hero_damage      88 non-null int64\n",
      "gold_per_min     88 non-null int64\n",
      "denies           88 non-null int64\n",
      "deaths           88 non-null int64\n",
      "dmg_received     88 non-null int64\n",
      "dmg_dealt        88 non-null int64\n",
      "camps_stacked    88 non-null int64\n",
      "buybacks         88 non-null int64\n",
      "assists          88 non-null int64\n",
      "match_id         88 non-null int64\n",
      "start_time       88 non-null int64\n",
      "win              88 non-null bool\n",
      "hero_id          88 non-null int64\n",
      "account_id       88 non-null int64\n",
      "leaguename       88 non-null object\n",
      "dtypes: bool(1), int64(27), object(1)\n",
      "memory usage: 19.5+ KB\n"
     ]
    }
   ],
   "source": [
    "df.info()"
   ]
  },
  {
   "cell_type": "markdown",
   "metadata": {},
   "source": [
    "### Exploring Data\n",
    "- Seeing distribution data points\n",
    "- Looking for which features appear to correlate to winning games"
   ]
  },
  {
   "cell_type": "code",
   "execution_count": 6,
   "metadata": {},
   "outputs": [
    {
     "data": {
      "text/plain": [
       "<matplotlib.axes._subplots.AxesSubplot at 0x7f2f5c425490>"
      ]
     },
     "execution_count": 6,
     "metadata": {},
     "output_type": "execute_result"
    },
    {
     "data": {
      "image/png": "[encoded data removed]",
      "text/plain": [
       "<Figure size 432x288 with 1 Axes>"
      ]
     },
     "metadata": {
      "needs_background": "light"
     },
     "output_type": "display_data"
    }
   ],
   "source": [
    "sns.distplot(df['xp_per_min'])"
   ]
  },
  {
   "cell_type": "code",
   "execution_count": 7,
   "metadata": {},
   "outputs": [
    {
     "data": {
      "text/plain": [
       "<matplotlib.axes._subplots.AxesSubplot at 0x7f2f39ec6a50>"
      ]
     },
     "execution_count": 7,
     "metadata": {},
     "output_type": "execute_result"
    },
    {
     "data": {
      "image/png": "[encoded data removed]",
      "text/plain": [
       "<Figure size 432x288 with 1 Axes>"
      ]
     },
     "metadata": {
      "needs_background": "light"
     },
     "output_type": "display_data"
    }
   ],
   "source": [
    "sns.distplot(df['tower_damage'])"
   ]
  },
  {
   "cell_type": "code",
   "execution_count": 8,
   "metadata": {},
   "outputs": [
    {
     "data": {
      "text/plain": [
       "<matplotlib.axes._subplots.AxesSubplot at 0x7f2f39ec6a10>"
      ]
     },
     "execution_count": 8,
     "metadata": {},
     "output_type": "execute_result"
    },
    {
     "data": {
      "image/png": "[encoded data removed]",
      "text/plain": [
       "<Figure size 432x288 with 1 Axes>"
      ]
     },
     "metadata": {
      "needs_background": "light"
     },
     "output_type": "display_data"
    }
   ],
   "source": [
    "sns.distplot(df['sen_placed'])"
   ]
  },
  {
   "cell_type": "code",
   "execution_count": 9,
   "metadata": {},
   "outputs": [
    {
     "data": {
      "text/plain": [
       "<matplotlib.axes._subplots.AxesSubplot at 0x7f2f39da4150>"
      ]
     },
     "execution_count": 9,
     "metadata": {},
     "output_type": "execute_result"
    },
    {
     "data": {
      "image/png": "[encoded data removed]",
      "text/plain": [
       "<Figure size 432x288 with 1 Axes>"
      ]
     },
     "metadata": {
      "needs_background": "light"
     },
     "output_type": "display_data"
    }
   ],
   "source": [
    "sns.distplot(df['sen_destroyed'])"
   ]
  },
  {
   "cell_type": "code",
   "execution_count": 10,
   "metadata": {},
   "outputs": [
    {
     "data": {
      "text/plain": [
       "<matplotlib.axes._subplots.AxesSubplot at 0x7f2f39d5f450>"
      ]
     },
     "execution_count": 10,
     "metadata": {},
     "output_type": "execute_result"
    },
    {
     "data": {
      "image/png": "[encoded data removed]",
      "text/plain": [
       "<Figure size 432x288 with 1 Axes>"
      ]
     },
     "metadata": {
      "needs_background": "light"
     },
     "output_type": "display_data"
    }
   ],
   "source": [
    "sns.distplot(df['obs_placed'])"
   ]
  },
  {
   "cell_type": "code",
   "execution_count": 11,
   "metadata": {},
   "outputs": [
    {
     "data": {
      "text/plain": [
       "<matplotlib.axes._subplots.AxesSubplot at 0x7f2f39ca1210>"
      ]
     },
     "execution_count": 11,
     "metadata": {},
     "output_type": "execute_result"
    },
    {
     "data": {
      "image/png": "[encoded data removed]",
      "text/plain": [
       "<Figure size 432x288 with 1 Axes>"
      ]
     },
     "metadata": {
      "needs_background": "light"
     },
     "output_type": "display_data"
    }
   ],
   "source": [
    "sns.distplot(df['obs_destroyed'])"
   ]
  },
  {
   "cell_type": "code",
   "execution_count": 12,
   "metadata": {},
   "outputs": [
    {
     "data": {
      "text/plain": [
       "<matplotlib.axes._subplots.AxesSubplot at 0x7f2f39c28e50>"
      ]
     },
     "execution_count": 12,
     "metadata": {},
     "output_type": "execute_result"
    },
    {
     "data": {
      "image/png": "[encoded data removed]",
      "text/plain": [
       "<Figure size 432x288 with 1 Axes>"
      ]
     },
     "metadata": {
      "needs_background": "light"
     },
     "output_type": "display_data"
    }
   ],
   "source": [
    "sns.distplot(df['last_hits'])"
   ]
  },
  {
   "cell_type": "code",
   "execution_count": 13,
   "metadata": {},
   "outputs": [
    {
     "data": {
      "text/plain": [
       "<matplotlib.axes._subplots.AxesSubplot at 0x7f2f39bb1350>"
      ]
     },
     "execution_count": 13,
     "metadata": {},
     "output_type": "execute_result"
    },
    {
     "data": {
      "image/png": "[encoded data removed]",
      "text/plain": [
       "<Figure size 432x288 with 1 Axes>"
      ]
     },
     "metadata": {
      "needs_background": "light"
     },
     "output_type": "display_data"
    }
   ],
   "source": [
    "sns.distplot(df['kills'])"
   ]
  },
  {
   "cell_type": "code",
   "execution_count": 14,
   "metadata": {},
   "outputs": [
    {
     "data": {
      "text/plain": [
       "<matplotlib.axes._subplots.AxesSubplot at 0x7f2f39abfe10>"
      ]
     },
     "execution_count": 14,
     "metadata": {},
     "output_type": "execute_result"
    },
    {
     "data": {
      "image/png": "[encoded data removed]",
      "text/plain": [
       "<Figure size 432x288 with 1 Axes>"
      ]
     },
     "metadata": {
      "needs_background": "light"
     },
     "output_type": "display_data"
    }
   ],
   "source": [
    "sns.distplot(df['assists'])"
   ]
  },
  {
   "cell_type": "code",
   "execution_count": 15,
   "metadata": {},
   "outputs": [
    {
     "data": {
      "text/plain": [
       "<matplotlib.axes._subplots.AxesSubplot at 0x7f2f39a42b10>"
      ]
     },
     "execution_count": 15,
     "metadata": {},
     "output_type": "execute_result"
    },
    {
     "data": {
      "image/png": "[encoded data removed]",
      "text/plain": [
       "<Figure size 432x288 with 1 Axes>"
      ]
     },
     "metadata": {
      "needs_background": "light"
     },
     "output_type": "display_data"
    }
   ],
   "source": [
    "sns.distplot(df['deaths'])"
   ]
  },
  {
   "cell_type": "code",
   "execution_count": 16,
   "metadata": {},
   "outputs": [
    {
     "data": {
      "text/plain": [
       "<matplotlib.axes._subplots.AxesSubplot at 0x7f2f39b88f90>"
      ]
     },
     "execution_count": 16,
     "metadata": {},
     "output_type": "execute_result"
    },
    {
     "data": {
      "image/png": "[encoded data removed]",
      "text/plain": [
       "<Figure size 432x288 with 1 Axes>"
      ]
     },
     "metadata": {
      "needs_background": "light"
     },
     "output_type": "display_data"
    }
   ],
   "source": [
    "sns.distplot(df['gold_per_min'])"
   ]
  },
  {
   "cell_type": "code",
   "execution_count": 17,
   "metadata": {},
   "outputs": [
    {
     "data": {
      "text/plain": [
       "<matplotlib.axes._subplots.AxesSubplot at 0x7f2f39950990>"
      ]
     },
     "execution_count": 17,
     "metadata": {},
     "output_type": "execute_result"
    },
    {
     "data": {
      "image/png": "[encoded data removed]",
      "text/plain": [
       "<Figure size 432x288 with 1 Axes>"
      ]
     },
     "metadata": {
      "needs_background": "light"
     },
     "output_type": "display_data"
    }
   ],
   "source": [
    "sns.distplot(df['camps_stacked'])"
   ]
  },
  {
   "cell_type": "code",
   "execution_count": 18,
   "metadata": {},
   "outputs": [
    {
     "data": {
      "text/plain": [
       "<matplotlib.axes._subplots.AxesSubplot at 0x7f2f399b8510>"
      ]
     },
     "execution_count": 18,
     "metadata": {},
     "output_type": "execute_result"
    },
    {
     "data": {
      "image/png": "[encoded data removed]",
      "text/plain": [
       "<Figure size 432x288 with 1 Axes>"
      ]
     },
     "metadata": {
      "needs_background": "light"
     },
     "output_type": "display_data"
    }
   ],
   "source": [
    "sns.distplot(df['hero_id'])"
   ]
  },
  {
   "cell_type": "code",
   "execution_count": 19,
   "metadata": {},
   "outputs": [
    {
     "data": {
      "text/plain": [
       "<matplotlib.axes._subplots.AxesSubplot at 0x7f2f3985e710>"
      ]
     },
     "execution_count": 19,
     "metadata": {},
     "output_type": "execute_result"
    },
    {
     "data": {
      "image/png": "[encoded data removed]",
      "text/plain": [
       "<Figure size 432x288 with 1 Axes>"
      ]
     },
     "metadata": {
      "needs_background": "light"
     },
     "output_type": "display_data"
    }
   ],
   "source": [
    "'''\n",
    "dmg_dealt         int64\n",
    "buybacks          int64\n",
    "'''\n",
    "sns.distplot(df['denies'])"
   ]
  },
  {
   "cell_type": "code",
   "execution_count": 20,
   "metadata": {},
   "outputs": [
    {
     "data": {
      "text/plain": [
       "<matplotlib.axes._subplots.AxesSubplot at 0x7f2f39790850>"
      ]
     },
     "execution_count": 20,
     "metadata": {},
     "output_type": "execute_result"
    },
    {
     "data": {
      "image/png": "[encoded data removed]",
      "text/plain": [
       "<Figure size 432x288 with 1 Axes>"
      ]
     },
     "metadata": {
      "needs_background": "light"
     },
     "output_type": "display_data"
    }
   ],
   "source": [
    "sns.distplot(df['hero_healing'])"
   ]
  },
  {
   "cell_type": "code",
   "execution_count": 21,
   "metadata": {},
   "outputs": [
    {
     "data": {
      "text/plain": [
       "<matplotlib.axes._subplots.AxesSubplot at 0x7f2f396c46d0>"
      ]
     },
     "execution_count": 21,
     "metadata": {},
     "output_type": "execute_result"
    },
    {
     "data": {
      "image/png": "[encoded data removed]",
      "text/plain": [
       "<Figure size 432x288 with 1 Axes>"
      ]
     },
     "metadata": {
      "needs_background": "light"
     },
     "output_type": "display_data"
    }
   ],
   "source": [
    "sns.distplot(df['hero_damage'])"
   ]
  },
  {
   "cell_type": "code",
   "execution_count": 22,
   "metadata": {},
   "outputs": [
    {
     "data": {
      "text/plain": [
       "<matplotlib.axes._subplots.AxesSubplot at 0x7f2f396295d0>"
      ]
     },
     "execution_count": 22,
     "metadata": {},
     "output_type": "execute_result"
    },
    {
     "data": {
      "image/png": "[encoded data removed]",
      "text/plain": [
       "<Figure size 432x288 with 1 Axes>"
      ]
     },
     "metadata": {
      "needs_background": "light"
     },
     "output_type": "display_data"
    }
   ],
   "source": [
    "sns.distplot(df['dmg_received'])"
   ]
  },
  {
   "cell_type": "code",
   "execution_count": 23,
   "metadata": {},
   "outputs": [
    {
     "data": {
      "text/plain": [
       "<matplotlib.axes._subplots.AxesSubplot at 0x7f2f39599690>"
      ]
     },
     "execution_count": 23,
     "metadata": {},
     "output_type": "execute_result"
    },
    {
     "data": {
      "image/png": "[encoded data removed]",
      "text/plain": [
       "<Figure size 432x288 with 1 Axes>"
      ]
     },
     "metadata": {
      "needs_background": "light"
     },
     "output_type": "display_data"
    }
   ],
   "source": [
    "sns.distplot(df['dmg_dealt'])"
   ]
  },
  {
   "cell_type": "code",
   "execution_count": 24,
   "metadata": {},
   "outputs": [
    {
     "data": {
      "text/plain": [
       "<matplotlib.axes._subplots.AxesSubplot at 0x7f2f39529f90>"
      ]
     },
     "execution_count": 24,
     "metadata": {},
     "output_type": "execute_result"
    },
    {
     "data": {
      "image/png": "[encoded data removed]",
      "text/plain": [
       "<Figure size 432x288 with 1 Axes>"
      ]
     },
     "metadata": {
      "needs_background": "light"
     },
     "output_type": "display_data"
    }
   ],
   "source": [
    "sns.distplot(df['buybacks'])"
   ]
  },
  {
   "cell_type": "code",
   "execution_count": 25,
   "metadata": {},
   "outputs": [],
   "source": [
    "df.win = df.win.astype('int64')\n",
    "df['win'] = df.win.astype('category')"
   ]
  },
  {
   "cell_type": "markdown",
   "metadata": {},
   "source": [
    "## Exploring Features' relationships with Winning\n",
    "\n",
    "Using mostly boxplots since the feature we want to predict is either 0 or 1 and categorical"
   ]
  },
  {
   "cell_type": "code",
   "execution_count": 26,
   "metadata": {},
   "outputs": [
    {
     "data": {
      "text/plain": [
       "xp_per_min          int64\n",
       "tower_damage        int64\n",
       "sen_placed          int64\n",
       "sen_destroyed       int64\n",
       "obs_placed          int64\n",
       "obs_destroyed       int64\n",
       "lh50                int64\n",
       "lh40                int64\n",
       "lh30                int64\n",
       "lh20                int64\n",
       "lh10                int64\n",
       "last_hits           int64\n",
       "kills               int64\n",
       "hero_healing        int64\n",
       "hero_damage         int64\n",
       "gold_per_min        int64\n",
       "denies              int64\n",
       "deaths              int64\n",
       "dmg_received        int64\n",
       "dmg_dealt           int64\n",
       "camps_stacked       int64\n",
       "buybacks            int64\n",
       "assists             int64\n",
       "match_id            int64\n",
       "start_time          int64\n",
       "win              category\n",
       "hero_id             int64\n",
       "account_id          int64\n",
       "leaguename         object\n",
       "dtype: object"
      ]
     },
     "execution_count": 26,
     "metadata": {},
     "output_type": "execute_result"
    }
   ],
   "source": [
    "df.dtypes"
   ]
  },
  {
   "cell_type": "code",
   "execution_count": 27,
   "metadata": {},
   "outputs": [
    {
     "data": {
      "text/plain": [
       "<matplotlib.axes._subplots.AxesSubplot at 0x7f2f39af0a90>"
      ]
     },
     "execution_count": 27,
     "metadata": {},
     "output_type": "execute_result"
    },
    {
     "data": {
      "image/png": "[encoded data removed]",
      "text/plain": [
       "<Figure size 432x288 with 1 Axes>"
      ]
     },
     "metadata": {
      "needs_background": "light"
     },
     "output_type": "display_data"
    }
   ],
   "source": [
    "sns.boxplot('xp_per_min','win', data=df)"
   ]
  },
  {
   "cell_type": "code",
   "execution_count": 28,
   "metadata": {},
   "outputs": [
    {
     "data": {
      "text/plain": [
       "<matplotlib.axes._subplots.AxesSubplot at 0x7f2f394289d0>"
      ]
     },
     "execution_count": 28,
     "metadata": {},
     "output_type": "execute_result"
    },
    {
     "data": {
      "image/png": "[encoded data removed]",
      "text/plain": [
       "<Figure size 432x288 with 1 Axes>"
      ]
     },
     "metadata": {
      "needs_background": "light"
     },
     "output_type": "display_data"
    }
   ],
   "source": [
    "sns.boxplot('tower_damage','win', data=df)"
   ]
  },
  {
   "cell_type": "code",
   "execution_count": 29,
   "metadata": {},
   "outputs": [
    {
     "data": {
      "text/plain": [
       "<matplotlib.axes._subplots.AxesSubplot at 0x7f2f39394810>"
      ]
     },
     "execution_count": 29,
     "metadata": {},
     "output_type": "execute_result"
    },
    {
     "data": {
      "image/png": "[encoded data removed]",
      "text/plain": [
       "<Figure size 432x288 with 1 Axes>"
      ]
     },
     "metadata": {
      "needs_background": "light"
     },
     "output_type": "display_data"
    }
   ],
   "source": [
    "sns.boxplot('sen_placed','win', data=df)"
   ]
  },
  {
   "cell_type": "code",
   "execution_count": 30,
   "metadata": {},
   "outputs": [
    {
     "data": {
      "text/plain": [
       "<matplotlib.axes._subplots.AxesSubplot at 0x7f2f39329f50>"
      ]
     },
     "execution_count": 30,
     "metadata": {},
     "output_type": "execute_result"
    },
    {
     "data": {
      "image/png": "[encoded data removed]",
      "text/plain": [
       "<Figure size 432x288 with 1 Axes>"
      ]
     },
     "metadata": {
      "needs_background": "light"
     },
     "output_type": "display_data"
    }
   ],
   "source": [
    "sns.boxplot('sen_destroyed','win', data=df)"
   ]
  },
  {
   "cell_type": "code",
   "execution_count": 31,
   "metadata": {},
   "outputs": [
    {
     "data": {
      "text/plain": [
       "<matplotlib.axes._subplots.AxesSubplot at 0x7f2f392ac1d0>"
      ]
     },
     "execution_count": 31,
     "metadata": {},
     "output_type": "execute_result"
    },
    {
     "data": {
      "image/png": "[encoded data removed]",
      "text/plain": [
       "<Figure size 432x288 with 1 Axes>"
      ]
     },
     "metadata": {
      "needs_background": "light"
     },
     "output_type": "display_data"
    }
   ],
   "source": [
    "sns.boxplot('obs_placed','win', data=df)"
   ]
  },
  {
   "cell_type": "code",
   "execution_count": 32,
   "metadata": {},
   "outputs": [
    {
     "data": {
      "text/plain": [
       "<matplotlib.axes._subplots.AxesSubplot at 0x7f2f3922e250>"
      ]
     },
     "execution_count": 32,
     "metadata": {},
     "output_type": "execute_result"
    },
    {
     "data": {
      "image/png": "[encoded data removed]",
      "text/plain": [
       "<Figure size 432x288 with 1 Axes>"
      ]
     },
     "metadata": {
      "needs_background": "light"
     },
     "output_type": "display_data"
    }
   ],
   "source": [
    "sns.boxplot('obs_destroyed','win', data=df)"
   ]
  },
  {
   "cell_type": "code",
   "execution_count": 33,
   "metadata": {},
   "outputs": [
    {
     "data": {
      "text/plain": [
       "<matplotlib.axes._subplots.AxesSubplot at 0x7f2f39237cd0>"
      ]
     },
     "execution_count": 33,
     "metadata": {},
     "output_type": "execute_result"
    },
    {
     "data": {
      "image/png": "[encoded data removed]",
      "text/plain": [
       "<Figure size 432x288 with 1 Axes>"
      ]
     },
     "metadata": {
      "needs_background": "light"
     },
     "output_type": "display_data"
    }
   ],
   "source": [
    "sns.boxplot('last_hits','win', data=df)"
   ]
  },
  {
   "cell_type": "code",
   "execution_count": 34,
   "metadata": {},
   "outputs": [
    {
     "data": {
      "text/plain": [
       "<matplotlib.axes._subplots.AxesSubplot at 0x7f2f3a174310>"
      ]
     },
     "execution_count": 34,
     "metadata": {},
     "output_type": "execute_result"
    },
    {
     "data": {
      "image/png": "[encoded data removed]",
      "text/plain": [
       "<Figure size 432x288 with 1 Axes>"
      ]
     },
     "metadata": {
      "needs_background": "light"
     },
     "output_type": "display_data"
    }
   ],
   "source": [
    "sns.boxplot('kills','win', data=df)"
   ]
  },
  {
   "cell_type": "code",
   "execution_count": 35,
   "metadata": {},
   "outputs": [
    {
     "data": {
      "text/plain": [
       "<matplotlib.axes._subplots.AxesSubplot at 0x7f2f390b36d0>"
      ]
     },
     "execution_count": 35,
     "metadata": {},
     "output_type": "execute_result"
    },
    {
     "data": {
      "image/png": "[encoded data removed]",
      "text/plain": [
       "<Figure size 432x288 with 1 Axes>"
      ]
     },
     "metadata": {
      "needs_background": "light"
     },
     "output_type": "display_data"
    }
   ],
   "source": [
    "sns.boxplot( 'win','hero_id', data=df)\n",
    "# this plot means nothing"
   ]
  },
  {
   "cell_type": "markdown",
   "metadata": {},
   "source": [
    "### Experimental Setup\n",
    "\n",
    "Switch `hero_id`, `match_id`, `account_id`, and `leaguename` as categorical and then create dummy columns for `hero_id` since all of these games where played at The International 9, and we don't want to predict based off the match id or player id. But, `hero_id` lets us observe which heros are part of the current meta, and have higher win rates."
   ]
  },
  {
   "cell_type": "code",
   "execution_count": 43,
   "metadata": {},
   "outputs": [
    {
     "data": {
      "text/plain": [
       "xp_per_min          int64\n",
       "tower_damage        int64\n",
       "sen_placed          int64\n",
       "sen_destroyed       int64\n",
       "obs_placed          int64\n",
       "obs_destroyed       int64\n",
       "lh50                int64\n",
       "lh40                int64\n",
       "lh30                int64\n",
       "lh20                int64\n",
       "lh10                int64\n",
       "last_hits           int64\n",
       "kills               int64\n",
       "hero_healing        int64\n",
       "hero_damage         int64\n",
       "gold_per_min        int64\n",
       "denies              int64\n",
       "deaths              int64\n",
       "dmg_received        int64\n",
       "dmg_dealt           int64\n",
       "camps_stacked       int64\n",
       "buybacks            int64\n",
       "assists             int64\n",
       "match_id         category\n",
       "start_time          int64\n",
       "win              category\n",
       "hero_id          category\n",
       "account_id       category\n",
       "leaguename       category\n",
       "dtype: object"
      ]
     },
     "execution_count": 43,
     "metadata": {},
     "output_type": "execute_result"
    }
   ],
   "source": [
    "df['match_id'] = df['match_id'].astype('category')\n",
    "df['hero_id'] = df['hero_id'].astype('category')\n",
    "df['account_id'] = df['account_id'].astype('category')\n",
    "df['leaguename'] = df['leaguename'].astype('category')\n",
    "df.dtypes"
   ]
  },
  {
   "cell_type": "code",
   "execution_count": 45,
   "metadata": {},
   "outputs": [],
   "source": [
    "numerical_columns = ['xp_per_min', 'tower_damage', 'sen_placed', 'sen_destroyed', 'obs_placed', 'obs_destroyed',\n",
    "'lh50', 'lh40', 'lh30', 'lh20', 'lh10', 'last_hits', 'kills', 'hero_healing', 'hero_damage','gold_per_min', \n",
    "'denies', 'deaths', 'dmg_received', 'dmg_dealt','camps_stacked', 'buybacks','assists']\n",
    "categorical_columns = ['hero_id']\n",
    "all_columns = numerical_columns + categorical_columns\n",
    "\n",
    "dummy_columns = {}\n",
    "for col_name in categorical_columns:\n",
    "    dummies = pd.get_dummies(df[col_name], prefix=col_name)\n",
    "    dummy_columns[col_name] = dummies.columns.values\n",
    "    df = df.merge(dummies, left_index=True, right_index=True)"
   ]
  },
  {
   "cell_type": "code",
   "execution_count": 46,
   "metadata": {},
   "outputs": [
    {
     "data": {
      "text/html": [
       "<div>\n",
       "<style scoped>\n",
       "    .dataframe tbody tr th:only-of-type {\n",
       "        vertical-align: middle;\n",
       "    }\n",
       "\n",
       "    .dataframe tbody tr th {\n",
       "        vertical-align: top;\n",
       "    }\n",
       "\n",
       "    .dataframe thead th {\n",
       "        text-align: right;\n",
       "    }\n",
       "</style>\n",
       "<table border=\"1\" class=\"dataframe\">\n",
       "  <thead>\n",
       "    <tr style=\"text-align: right;\">\n",
       "      <th></th>\n",
       "      <th>xp_per_min</th>\n",
       "      <th>tower_damage</th>\n",
       "      <th>sen_placed</th>\n",
       "      <th>sen_destroyed</th>\n",
       "      <th>obs_placed</th>\n",
       "      <th>obs_destroyed</th>\n",
       "      <th>lh50</th>\n",
       "      <th>lh40</th>\n",
       "      <th>lh30</th>\n",
       "      <th>lh20</th>\n",
       "      <th>...</th>\n",
       "      <th>hero_id_84</th>\n",
       "      <th>hero_id_86</th>\n",
       "      <th>hero_id_97</th>\n",
       "      <th>hero_id_101</th>\n",
       "      <th>hero_id_103</th>\n",
       "      <th>hero_id_107</th>\n",
       "      <th>hero_id_110</th>\n",
       "      <th>hero_id_111</th>\n",
       "      <th>hero_id_119</th>\n",
       "      <th>hero_id_121</th>\n",
       "    </tr>\n",
       "  </thead>\n",
       "  <tbody>\n",
       "    <tr>\n",
       "      <th>0</th>\n",
       "      <td>720</td>\n",
       "      <td>8249</td>\n",
       "      <td>1</td>\n",
       "      <td>1</td>\n",
       "      <td>1</td>\n",
       "      <td>1</td>\n",
       "      <td>473</td>\n",
       "      <td>396</td>\n",
       "      <td>263</td>\n",
       "      <td>152</td>\n",
       "      <td>...</td>\n",
       "      <td>0</td>\n",
       "      <td>0</td>\n",
       "      <td>0</td>\n",
       "      <td>0</td>\n",
       "      <td>0</td>\n",
       "      <td>0</td>\n",
       "      <td>0</td>\n",
       "      <td>0</td>\n",
       "      <td>0</td>\n",
       "      <td>0</td>\n",
       "    </tr>\n",
       "    <tr>\n",
       "      <th>1</th>\n",
       "      <td>624</td>\n",
       "      <td>505</td>\n",
       "      <td>1</td>\n",
       "      <td>3</td>\n",
       "      <td>1</td>\n",
       "      <td>5</td>\n",
       "      <td>309</td>\n",
       "      <td>227</td>\n",
       "      <td>174</td>\n",
       "      <td>107</td>\n",
       "      <td>...</td>\n",
       "      <td>0</td>\n",
       "      <td>0</td>\n",
       "      <td>0</td>\n",
       "      <td>0</td>\n",
       "      <td>0</td>\n",
       "      <td>0</td>\n",
       "      <td>0</td>\n",
       "      <td>0</td>\n",
       "      <td>0</td>\n",
       "      <td>0</td>\n",
       "    </tr>\n",
       "    <tr>\n",
       "      <th>2</th>\n",
       "      <td>616</td>\n",
       "      <td>654</td>\n",
       "      <td>8</td>\n",
       "      <td>9</td>\n",
       "      <td>3</td>\n",
       "      <td>3</td>\n",
       "      <td>288</td>\n",
       "      <td>205</td>\n",
       "      <td>146</td>\n",
       "      <td>78</td>\n",
       "      <td>...</td>\n",
       "      <td>0</td>\n",
       "      <td>0</td>\n",
       "      <td>0</td>\n",
       "      <td>0</td>\n",
       "      <td>0</td>\n",
       "      <td>0</td>\n",
       "      <td>0</td>\n",
       "      <td>0</td>\n",
       "      <td>0</td>\n",
       "      <td>0</td>\n",
       "    </tr>\n",
       "    <tr>\n",
       "      <th>3</th>\n",
       "      <td>603</td>\n",
       "      <td>8285</td>\n",
       "      <td>2</td>\n",
       "      <td>2</td>\n",
       "      <td>6</td>\n",
       "      <td>4</td>\n",
       "      <td>234</td>\n",
       "      <td>167</td>\n",
       "      <td>76</td>\n",
       "      <td>28</td>\n",
       "      <td>...</td>\n",
       "      <td>0</td>\n",
       "      <td>0</td>\n",
       "      <td>0</td>\n",
       "      <td>0</td>\n",
       "      <td>0</td>\n",
       "      <td>0</td>\n",
       "      <td>0</td>\n",
       "      <td>0</td>\n",
       "      <td>0</td>\n",
       "      <td>0</td>\n",
       "    </tr>\n",
       "    <tr>\n",
       "      <th>4</th>\n",
       "      <td>602</td>\n",
       "      <td>976</td>\n",
       "      <td>11</td>\n",
       "      <td>6</td>\n",
       "      <td>7</td>\n",
       "      <td>3</td>\n",
       "      <td>253</td>\n",
       "      <td>144</td>\n",
       "      <td>93</td>\n",
       "      <td>63</td>\n",
       "      <td>...</td>\n",
       "      <td>0</td>\n",
       "      <td>0</td>\n",
       "      <td>0</td>\n",
       "      <td>0</td>\n",
       "      <td>0</td>\n",
       "      <td>0</td>\n",
       "      <td>0</td>\n",
       "      <td>0</td>\n",
       "      <td>0</td>\n",
       "      <td>0</td>\n",
       "    </tr>\n",
       "  </tbody>\n",
       "</table>\n",
       "<p>5 rows × 64 columns</p>\n",
       "</div>"
      ],
      "text/plain": [
       "   xp_per_min  tower_damage  sen_placed  sen_destroyed  obs_placed  \\\n",
       "0         720          8249           1              1           1   \n",
       "1         624           505           1              3           1   \n",
       "2         616           654           8              9           3   \n",
       "3         603          8285           2              2           6   \n",
       "4         602           976          11              6           7   \n",
       "\n",
       "   obs_destroyed  lh50  lh40  lh30  lh20  ...  hero_id_84  hero_id_86  \\\n",
       "0              1   473   396   263   152  ...           0           0   \n",
       "1              5   309   227   174   107  ...           0           0   \n",
       "2              3   288   205   146    78  ...           0           0   \n",
       "3              4   234   167    76    28  ...           0           0   \n",
       "4              3   253   144    93    63  ...           0           0   \n",
       "\n",
       "   hero_id_97  hero_id_101  hero_id_103  hero_id_107  hero_id_110  \\\n",
       "0           0            0            0            0            0   \n",
       "1           0            0            0            0            0   \n",
       "2           0            0            0            0            0   \n",
       "3           0            0            0            0            0   \n",
       "4           0            0            0            0            0   \n",
       "\n",
       "   hero_id_111  hero_id_119  hero_id_121  \n",
       "0            0            0            0  \n",
       "1            0            0            0  \n",
       "2            0            0            0  \n",
       "3            0            0            0  \n",
       "4            0            0            0  \n",
       "\n",
       "[5 rows x 64 columns]"
      ]
     },
     "execution_count": 46,
     "metadata": {},
     "output_type": "execute_result"
    }
   ],
   "source": [
    "# now we have a whole bunch of features from hero id\n",
    "df.head()"
   ]
  },
  {
   "cell_type": "code",
   "execution_count": 49,
   "metadata": {},
   "outputs": [
    {
     "name": "stdout",
     "output_type": "stream",
     "text": [
      "(88, 64) (66, 64) (22, 64)\n"
     ]
    }
   ],
   "source": [
    "df_train, df_test = train_test_split(df)\n",
    "print(df.shape, df_train.shape, df_test.shape)"
   ]
  },
  {
   "cell_type": "code",
   "execution_count": 52,
   "metadata": {},
   "outputs": [],
   "source": [
    "y_train = df_train['win'].values\n",
    "y_test = df_test['win'].values"
   ]
  },
  {
   "cell_type": "markdown",
   "metadata": {},
   "source": [
    "### Simple Logistical Regression\n",
    "\n",
    "First we are creating a null and simple Logistic Regresson model. From these two models we are going to create a confusion matrix and calculate accuracy."
   ]
  },
  {
   "cell_type": "code",
   "execution_count": 54,
   "metadata": {},
   "outputs": [
    {
     "name": "stdout",
     "output_type": "stream",
     "text": [
      "Accuracy: 0.3181818181818182\n",
      "Loss: 1.7597703933821507\n",
      "Confusion matrix:\n",
      "[[ 0 15]\n",
      " [ 0  7]]\n"
     ]
    }
   ],
   "source": [
    "from sklearn.linear_model import SGDClassifier\n",
    "\n",
    "# Zeros\n",
    "zeros_train = np.zeros(df_train.shape)\n",
    "zeros_test = np.zeros(df_test.shape)\n",
    "\n",
    "null_lr = SGDClassifier(max_iter=10000, loss='log')\n",
    "null_lr.fit(zeros_train, y_train)\n",
    "pred_null_labels = null_lr.predict(zeros_test)\n",
    "pred_prob = null_lr.predict_proba(zeros_test)\n",
    "\n",
    "null_accuracy = accuracy_score(y_test, pred_null_labels)\n",
    "null_loss = log_loss(y_test, pred_prob)\n",
    "cm = confusion_matrix(y_test, pred_null_labels)\n",
    "\n",
    "print(\"Accuracy:\", null_accuracy)\n",
    "print(\"Loss:\", null_loss)\n",
    "print(\"Confusion matrix:\")\n",
    "print(cm)"
   ]
  },
  {
   "cell_type": "markdown",
   "metadata": {},
   "source": [
    "### Feature Selection with Greedy Algorithm\n",
    "\n",
    "Decided to skip selecting freatures myself since I am biased by watch The International when it was streamed, and this notebook is more about exploring overlooked stats for correclation with winning."
   ]
  },
  {
   "cell_type": "code",
   "execution_count": 58,
   "metadata": {},
   "outputs": [],
   "source": [
    "candidate_columns = numerical_columns + categorical_columns"
   ]
  },
  {
   "cell_type": "code",
   "execution_count": 56,
   "metadata": {},
   "outputs": [],
   "source": [
    "def create_feature_matrices(df_train, df_test, selected_columns, dummy_columns):\n",
    "    \"\"\"\n",
    "    Creates feature matrices for the training and testing sets from the given dataframes.\n",
    "    The feature matrices are built from the columns given in selected columns.\n",
    "    \"\"\"\n",
    "    \n",
    "    # keep track of numerical features\n",
    "    numerical_trial_columns = []\n",
    "    \n",
    "    # keep track of dummy features for categorical variables\n",
    "    categorical_trial_columns = []\n",
    "    \n",
    "    # build feature lists\n",
    "    for col_name in selected_columns:\n",
    "        if col_name in dummy_columns:\n",
    "            categorical_trial_columns.extend(dummy_columns[col_name])\n",
    "        else:\n",
    "            numerical_trial_columns.append(col_name)\n",
    "\n",
    "    # transform numerical features\n",
    "    if len(numerical_trial_columns) > 0:\n",
    "        X_train_numerical = df_train[numerical_trial_columns].astype(\"float64\").values\n",
    "        X_test_numerical = df_test[numerical_trial_columns].astype(\"float64\").values\n",
    "    \n",
    "        scaler = StandardScaler()\n",
    "        X_train_numerical = scaler.fit_transform(X_train_numerical)\n",
    "        X_test_numerical = scaler.transform(X_test_numerical)\n",
    "    \n",
    "    # select categorical features\n",
    "    if len(categorical_trial_columns) > 0:\n",
    "        X_train_categorical = df_train[categorical_trial_columns].astype(\"float64\").values\n",
    "        X_test_categorical = df_test[categorical_trial_columns].astype(\"float64\").values\n",
    "    \n",
    "    # concatenate feature matrices\n",
    "    if len(numerical_trial_columns) > 0 and len(categorical_trial_columns) > 0:\n",
    "        X_train = np.hstack([X_train_numerical, X_train_categorical])\n",
    "        X_test = np.hstack([X_test_numerical, X_test_categorical])\n",
    "    elif len(numerical_trial_columns) > 0:\n",
    "        X_train = X_train_numerical\n",
    "        X_test = X_test_numerical\n",
    "    else:\n",
    "        X_train = X_train_categorical\n",
    "        X_test = X_test_categorical\n",
    "        \n",
    "    return X_train, X_test\n"
   ]
  },
  {
   "cell_type": "code",
   "execution_count": 59,
   "metadata": {},
   "outputs": [
    {
     "name": "stdout",
     "output_type": "stream",
     "text": [
      "Null Model Accuracy: 0.3181818181818182\n",
      "\n",
      "xp_per_min Accuracy: 0.45454545454545453\n",
      "xp_per_min Loss: 1.631195146553573\n",
      "\n",
      "tower_damage Accuracy: 0.6818181818181818\n",
      "tower_damage Loss: 0.9118772778865896\n",
      "\n",
      "sen_placed Accuracy: 0.5\n",
      "sen_placed Loss: 1.8092445286562162\n",
      "\n",
      "sen_destroyed Accuracy: 0.45454545454545453\n",
      "sen_destroyed Loss: 1.1385725088435483\n",
      "\n",
      "obs_placed Accuracy: 0.6818181818181818\n",
      "obs_placed Loss: 2.463215728282258\n",
      "\n",
      "obs_destroyed Accuracy: 0.36363636363636365\n",
      "obs_destroyed Loss: 1.4609834418496377\n",
      "\n",
      "lh50 Accuracy: 0.6363636363636364\n",
      "lh50 Loss: 1.0234107046015088\n",
      "\n",
      "lh40 Accuracy: 0.6818181818181818\n",
      "lh40 Loss: 1.3580623345487473\n",
      "\n",
      "lh30 Accuracy: 0.6818181818181818\n",
      "lh30 Loss: 6.177405295897909\n",
      "\n",
      "lh20 Accuracy: 0.6818181818181818\n",
      "lh20 Loss: 1.2258224739864483\n",
      "\n",
      "lh10 Accuracy: 0.6818181818181818\n",
      "lh10 Loss: 5.85389446648798\n",
      "\n",
      "last_hits Accuracy: 0.3181818181818182\n",
      "last_hits Loss: 2.987087167373726\n",
      "\n",
      "kills Accuracy: 0.3181818181818182\n",
      "kills Loss: 3.6072167729477953\n",
      "\n",
      "hero_healing Accuracy: 0.3181818181818182\n",
      "hero_healing Loss: 1.7241131462650097\n",
      "\n",
      "hero_damage Accuracy: 0.5454545454545454\n",
      "hero_damage Loss: 1.0404356973392854\n",
      "\n",
      "gold_per_min Accuracy: 0.7272727272727273\n",
      "gold_per_min Loss: 2.126149031983731\n",
      "\n",
      "denies Accuracy: 0.3181818181818182\n",
      "denies Loss: 2.429549931851089\n",
      "\n",
      "deaths Accuracy: 0.5454545454545454\n",
      "deaths Loss: 1.717299979196975\n",
      "\n",
      "dmg_received Accuracy: 0.45454545454545453\n",
      "dmg_received Loss: 1.6450141494453805\n",
      "\n",
      "dmg_dealt Accuracy: 0.6818181818181818\n",
      "dmg_dealt Loss: 1.097615997696844\n",
      "\n",
      "camps_stacked Accuracy: 0.5\n",
      "camps_stacked Loss: 1.6235673467173357\n",
      "\n",
      "buybacks Accuracy: 0.3181818181818182\n",
      "buybacks Loss: 6.484174919144612\n",
      "\n",
      "assists Accuracy: 0.6363636363636364\n",
      "assists Loss: 2.2956062053172417\n",
      "\n",
      "hero_id Accuracy: 0.36363636363636365\n",
      "hero_id Loss: 2.665029655857819\n",
      "\n",
      "Sorted columns:['gold_per_min', 'tower_damage', 'obs_placed', 'lh40', 'lh30', 'lh20', 'lh10', 'dmg_dealt', 'lh50', 'assists', 'hero_damage', 'deaths', 'sen_placed', 'camps_stacked', 'xp_per_min', 'sen_destroyed', 'dmg_received', 'obs_destroyed', 'hero_id', 'last_hits', 'kills', 'hero_healing', 'denies', 'buybacks']\n"
     ]
    }
   ],
   "source": [
    "# Sort features by Accuracy and Loss\n",
    "\n",
    "# Baseline\n",
    "print(\"Null Model Accuracy:\", null_accuracy)\n",
    "\n",
    "column_accuracies = []\n",
    "\n",
    "for col_name in candidate_columns:\n",
    "    X_train, X_test = create_feature_matrices(df_train,\n",
    "                                             df_test,\n",
    "                                             [col_name],\n",
    "                                             dummy_columns)\n",
    "    \n",
    "    simple_lr = SGDClassifier(max_iter=10000, loss=\"log\")\n",
    "    simple_lr.fit(X_train, y_train)\n",
    "    pred_labels = simple_lr.predict(X_test)\n",
    "    pred_probs = simple_lr.predict_proba(X_test)\n",
    "    simple_accuracy = accuracy_score(y_test, pred_labels)\n",
    "    simple_loss = log_loss(y_test, pred_probs)\n",
    "    print()\n",
    "    print(col_name + \" Accuracy:\", simple_accuracy)\n",
    "    print(col_name + \" Loss:\", simple_loss)\n",
    "    column_accuracies.append((simple_accuracy, col_name))\n",
    "    \n",
    "column_accuracies.sort(key=lambda p: p[0], reverse=True)\n",
    "sorted_columns = [col_name for _, col_name in column_accuracies]\n",
    "print()\n",
    "print(\"Sorted columns:\" + str(sorted_columns))"
   ]
  },
  {
   "cell_type": "code",
   "execution_count": 60,
   "metadata": {},
   "outputs": [
    {
     "name": "stdout",
     "output_type": "stream",
     "text": [
      "Base Model Accuracy: 0.3181818181818182\n",
      "Base Model Loss: 1.7597703933821507\n",
      "\n",
      "\n",
      "['gold_per_min'] Model Accuracy: 0.6363636363636364\n",
      "['gold_per_min'] Model Loss: 2.565258349482436\n",
      "Updating base model\n",
      "\n",
      "Base Model Loss: 2.565258349482436\n",
      "Base Model Accuracy: 0.6363636363636364\n",
      "\n",
      "\n",
      "['gold_per_min', 'tower_damage'] Model Accuracy: 0.3181818181818182\n",
      "['gold_per_min', 'tower_damage'] Model Loss: 2.996745785265098\n",
      "\n",
      "Base Model Loss: 2.565258349482436\n",
      "Base Model Accuracy: 0.6363636363636364\n",
      "\n",
      "\n",
      "['gold_per_min', 'obs_placed'] Model Accuracy: 0.5909090909090909\n",
      "['gold_per_min', 'obs_placed'] Model Loss: 2.015881438447698\n",
      "\n",
      "Base Model Loss: 2.565258349482436\n",
      "Base Model Accuracy: 0.6363636363636364\n",
      "\n",
      "\n",
      "['gold_per_min', 'lh40'] Model Accuracy: 0.4090909090909091\n",
      "['gold_per_min', 'lh40'] Model Loss: 1.888563176476849\n",
      "\n",
      "Base Model Loss: 2.565258349482436\n",
      "Base Model Accuracy: 0.6363636363636364\n",
      "\n",
      "\n",
      "['gold_per_min', 'lh30'] Model Accuracy: 0.5\n",
      "['gold_per_min', 'lh30'] Model Loss: 3.4864360930305565\n",
      "\n",
      "Base Model Loss: 2.565258349482436\n",
      "Base Model Accuracy: 0.6363636363636364\n",
      "\n",
      "\n",
      "['gold_per_min', 'lh20'] Model Accuracy: 0.6363636363636364\n",
      "['gold_per_min', 'lh20'] Model Loss: 2.170093437949659\n",
      "\n",
      "Base Model Loss: 2.565258349482436\n",
      "Base Model Accuracy: 0.6363636363636364\n",
      "\n",
      "\n",
      "['gold_per_min', 'lh10'] Model Accuracy: 0.6818181818181818\n",
      "['gold_per_min', 'lh10'] Model Loss: 4.4446029460510905\n",
      "Updating base model\n",
      "\n",
      "Base Model Loss: 4.4446029460510905\n",
      "Base Model Accuracy: 0.6818181818181818\n",
      "\n",
      "\n",
      "['gold_per_min', 'lh10', 'dmg_dealt'] Model Accuracy: 0.5454545454545454\n",
      "['gold_per_min', 'lh10', 'dmg_dealt'] Model Loss: 2.262366949505429\n",
      "\n",
      "Base Model Loss: 4.4446029460510905\n",
      "Base Model Accuracy: 0.6818181818181818\n",
      "\n",
      "\n",
      "['gold_per_min', 'lh10', 'lh50'] Model Accuracy: 0.36363636363636365\n",
      "['gold_per_min', 'lh10', 'lh50'] Model Loss: 14.642898882709103\n",
      "\n",
      "Base Model Loss: 4.4446029460510905\n",
      "Base Model Accuracy: 0.6818181818181818\n",
      "\n",
      "\n",
      "['gold_per_min', 'lh10', 'assists'] Model Accuracy: 0.3181818181818182\n",
      "['gold_per_min', 'lh10', 'assists'] Model Loss: 6.862157796740463\n",
      "\n",
      "Base Model Loss: 4.4446029460510905\n",
      "Base Model Accuracy: 0.6818181818181818\n",
      "\n",
      "\n",
      "['gold_per_min', 'lh10', 'hero_damage'] Model Accuracy: 0.6363636363636364\n",
      "['gold_per_min', 'lh10', 'hero_damage'] Model Loss: 1.611318943703168\n",
      "\n",
      "Base Model Loss: 4.4446029460510905\n",
      "Base Model Accuracy: 0.6818181818181818\n",
      "\n",
      "\n",
      "['gold_per_min', 'lh10', 'deaths'] Model Accuracy: 0.6363636363636364\n",
      "['gold_per_min', 'lh10', 'deaths'] Model Loss: 1.1206306187643025\n",
      "\n",
      "Base Model Loss: 4.4446029460510905\n",
      "Base Model Accuracy: 0.6818181818181818\n",
      "\n",
      "\n",
      "['gold_per_min', 'lh10', 'sen_placed'] Model Accuracy: 0.3181818181818182\n",
      "['gold_per_min', 'lh10', 'sen_placed'] Model Loss: 4.334596678094045\n",
      "\n",
      "Base Model Loss: 4.4446029460510905\n",
      "Base Model Accuracy: 0.6818181818181818\n",
      "\n",
      "\n",
      "['gold_per_min', 'lh10', 'camps_stacked'] Model Accuracy: 0.45454545454545453\n",
      "['gold_per_min', 'lh10', 'camps_stacked'] Model Loss: 3.090500361891643\n",
      "\n",
      "Base Model Loss: 4.4446029460510905\n",
      "Base Model Accuracy: 0.6818181818181818\n",
      "\n",
      "\n",
      "['gold_per_min', 'lh10', 'xp_per_min'] Model Accuracy: 0.45454545454545453\n",
      "['gold_per_min', 'lh10', 'xp_per_min'] Model Loss: 5.387149554449567\n",
      "\n",
      "Base Model Loss: 4.4446029460510905\n",
      "Base Model Accuracy: 0.6818181818181818\n",
      "\n",
      "\n",
      "['gold_per_min', 'lh10', 'sen_destroyed'] Model Accuracy: 0.36363636363636365\n",
      "['gold_per_min', 'lh10', 'sen_destroyed'] Model Loss: 6.774238847693687\n",
      "\n",
      "Base Model Loss: 4.4446029460510905\n",
      "Base Model Accuracy: 0.6818181818181818\n",
      "\n",
      "\n",
      "['gold_per_min', 'lh10', 'dmg_received'] Model Accuracy: 0.2727272727272727\n",
      "['gold_per_min', 'lh10', 'dmg_received'] Model Loss: 11.717427599281518\n",
      "\n",
      "Base Model Loss: 4.4446029460510905\n",
      "Base Model Accuracy: 0.6818181818181818\n",
      "\n",
      "\n",
      "['gold_per_min', 'lh10', 'obs_destroyed'] Model Accuracy: 0.45454545454545453\n",
      "['gold_per_min', 'lh10', 'obs_destroyed'] Model Loss: 4.9252176983843805\n",
      "\n",
      "Base Model Loss: 4.4446029460510905\n",
      "Base Model Accuracy: 0.6818181818181818\n",
      "\n",
      "\n",
      "['gold_per_min', 'lh10', 'hero_id'] Model Accuracy: 0.45454545454545453\n",
      "['gold_per_min', 'lh10', 'hero_id'] Model Loss: 3.362641436760349\n",
      "\n",
      "Base Model Loss: 4.4446029460510905\n",
      "Base Model Accuracy: 0.6818181818181818\n",
      "\n",
      "\n",
      "['gold_per_min', 'lh10', 'last_hits'] Model Accuracy: 0.45454545454545453\n",
      "['gold_per_min', 'lh10', 'last_hits'] Model Loss: 9.661144259070044\n",
      "\n",
      "Base Model Loss: 4.4446029460510905\n",
      "Base Model Accuracy: 0.6818181818181818\n",
      "\n",
      "\n",
      "['gold_per_min', 'lh10', 'kills'] Model Accuracy: 0.45454545454545453\n",
      "['gold_per_min', 'lh10', 'kills'] Model Loss: 5.099353525195545\n",
      "\n",
      "Base Model Loss: 4.4446029460510905\n",
      "Base Model Accuracy: 0.6818181818181818\n",
      "\n",
      "\n",
      "['gold_per_min', 'lh10', 'hero_healing'] Model Accuracy: 0.5454545454545454\n",
      "['gold_per_min', 'lh10', 'hero_healing'] Model Loss: 3.7378965697160607\n",
      "\n",
      "Base Model Loss: 4.4446029460510905\n",
      "Base Model Accuracy: 0.6818181818181818\n",
      "\n",
      "\n",
      "['gold_per_min', 'lh10', 'denies'] Model Accuracy: 0.6363636363636364\n",
      "['gold_per_min', 'lh10', 'denies'] Model Loss: 1.5689173729343338\n",
      "\n",
      "Base Model Loss: 4.4446029460510905\n",
      "Base Model Accuracy: 0.6818181818181818\n",
      "\n",
      "\n",
      "['gold_per_min', 'lh10', 'buybacks'] Model Accuracy: 0.8181818181818182\n",
      "['gold_per_min', 'lh10', 'buybacks'] Model Loss: 0.8105319815375622\n",
      "Updating base model\n",
      "\n",
      "Base Model Loss: 0.8105319815375622\n",
      "Base Model Accuracy: 0.8181818181818182\n",
      "\n",
      "Our chosen columns are: ['gold_per_min', 'lh10', 'buybacks']\n"
     ]
    }
   ],
   "source": [
    "# Select Columns from the sorted columns\n",
    "base_model_columns = []\n",
    "base_loss = null_loss\n",
    "base_accuracy = null_accuracy\n",
    "\n",
    "print(\"Base Model Accuracy:\", base_accuracy)\n",
    "print(\"Base Model Loss:\", base_loss)\n",
    "print()\n",
    "\n",
    "for col_name in sorted_columns:\n",
    "    # track all column names\n",
    "    trial_columns = base_model_columns[:]\n",
    "    trial_columns.append(col_name)\n",
    "\n",
    "    X_train, X_test = create_feature_matrices(df_train,\n",
    "                                             df_test,\n",
    "                                             trial_columns,\n",
    "                                             dummy_columns)\n",
    "    \n",
    "    trial_lr = SGDClassifier(max_iter=50000, loss=\"log\", penalty=\"l2\")\n",
    "    trial_lr.fit(X_train, y_train)\n",
    "    pred_labels = trial_lr.predict(X_test)\n",
    "    pred_prob = trial_lr.predict_proba(X_test)\n",
    "    trial_accuracy = accuracy_score(y_test, pred_labels)\n",
    "    trial_loss = log_loss(y_test, pred_prob)\n",
    "    print()\n",
    "    print(str(trial_columns) + \" Model Accuracy:\", trial_accuracy)\n",
    "    print(str(trial_columns) + \" Model Loss:\", trial_loss)\n",
    "\n",
    "    if trial_accuracy > base_accuracy:\n",
    "        print(\"Updating base model\")\n",
    "        base_loss = trial_loss\n",
    "        base_model_columns = trial_columns\n",
    "        base_accuracy = trial_accuracy\n",
    "    print()\n",
    "    print(\"Base Model Loss:\", base_loss)\n",
    "    print(\"Base Model Accuracy:\", base_accuracy)\n",
    "    print()\n",
    "    \n",
    "print(\"Our chosen columns are: \" + str(base_model_columns))"
   ]
  },
  {
   "cell_type": "code",
   "execution_count": 61,
   "metadata": {},
   "outputs": [
    {
     "name": "stdout",
     "output_type": "stream",
     "text": [
      "\n",
      "Model Accuracy: 0.4090909090909091\n",
      "Confusion matrix:\n",
      "[[ 3 12]\n",
      " [ 1  6]]\n"
     ]
    }
   ],
   "source": [
    "# Train based off selected columns\n",
    "X_train, X_test = create_feature_matrices(df_train,\n",
    "                                          df_test,\n",
    "                                          base_model_columns,\n",
    "                                          dummy_columns)\n",
    "    \n",
    "lr = SGDClassifier(max_iter=10000, loss=\"log\")\n",
    "lr.fit(X_train, y_train)\n",
    "pred_labels = lr.predict(X_test)\n",
    "trial_accuracy = accuracy_score(y_test, pred_labels)\n",
    "cm = confusion_matrix(y_test, pred_labels)\n",
    "print()\n",
    "print(\"Model Accuracy:\", trial_accuracy)\n",
    "print(\"Confusion matrix:\")\n",
    "print(cm)"
   ]
  },
  {
   "cell_type": "code",
   "execution_count": 62,
   "metadata": {},
   "outputs": [
    {
     "data": {
      "text/plain": [
       "Text(0, 0.5, 'True Positive Rate')"
      ]
     },
     "execution_count": 62,
     "metadata": {},
     "output_type": "execute_result"
    },
    {
     "data": {
      "image/png": "[encoded data removed]",
      "text/plain": [
       "<Figure size 432x288 with 1 Axes>"
      ]
     },
     "metadata": {
      "needs_background": "light"
     },
     "output_type": "display_data"
    }
   ],
   "source": [
    "# analysis the results\n",
    "from sklearn.metrics import roc_curve\n",
    "\n",
    "pred_proba = lr.predict_proba(X_test)\n",
    "\n",
    "# turn multiclass problem into binary problem\n",
    "pred_proba_1 = 1.0 - pred_proba[:, 0]\n",
    "y_test_1 = [0 if y == 0 else 1 for y in y_test]\n",
    "\n",
    "fpr, tpr, _ = roc_curve(y_test_1, pred_proba_1)\n",
    "\n",
    "plt.plot(fpr, tpr)\n",
    "plt.plot([0.0, 1.0], [0.0, 1.0])\n",
    "plt.xlabel(\"False Positive Rate\", fontsize=16)\n",
    "plt.ylabel(\"True Positive Rate\", fontsize=16)\n",
    "\n"
   ]
  },
  {
   "cell_type": "markdown",
   "metadata": {},
   "source": [
    "### Analyzing the Results of Greedy Algorithm's selected Columns\n",
    "\n",
    "From the Graph of True Positive Rate vs False Positive Rate we have some pretty bad results for the first half of the testing data. This can be explained in a number of ways\n",
    "\n",
    "- The Data is split so that the Model was trained on less experinced teams of the lower bracket meaning that once a team got ahead, they stayed ahead\n",
    "- The Model is not taking in account teams that have made comebacks from losing situations, or playing in a manner that does not create data of the features selected like map location or ward location, Roshan times, etc.\n",
    "- The Pro Team OG offen used the promotional Compendem Battle Pass' point system to tip the opposing team for anything that helped them, as well as constatly poking fun at their oppents with their draft style.\n",
    "\n",
    "Regardless of what the cause behind poor model preformance, we will have to re-create the model using personal domain knowledge of Dota 2. The features selected will be based on events in the game that are not expressed in the model such as:\n",
    "\n",
    "- `tower_damage` - Higher tower damage means that more objectives have been taken, thus one team is not Defending their Ancient\n",
    "- `last_hits` - More last hits typically means more waves have been cleared making objectives easier to push\n",
    "- `gold_per_minute` - This one is tied to last hits, since that is primary way to generate gold, additionally more gold leads to better items, which gives an advantage in fighting and pushing\n",
    "- `kills`, `assists`, `deaths` - If you have many of the first two, you should have less of the last one, and if the enemy team is dead they cannot push back\n",
    "- `xp_per_minute` - This is around about measure of hero levels, higher level heros are better and higher xp per minute means that you have higher level heros earlier in the game\n",
    "- `obs_destroyed` and `sen_destroyed` - These are selected from the data exploration, we can intuit that winning teams are less likely to need to look for the opposing teams movements, since they are pushing into there base\n",
    "\n",
    "We will be skipping the create_feature_matrix part since all of the features we selected are numerical"
   ]
  },
  {
   "cell_type": "code",
   "execution_count": 68,
   "metadata": {},
   "outputs": [
    {
     "data": {
      "text/plain": [
       "Index(['xp_per_min', 'tower_damage', 'sen_placed', 'sen_destroyed',\n",
       "       'obs_placed', 'obs_destroyed', 'lh50', 'lh40', 'lh30', 'lh20', 'lh10',\n",
       "       'last_hits', 'kills', 'hero_healing', 'hero_damage', 'gold_per_min',\n",
       "       'denies', 'deaths', 'dmg_received', 'dmg_dealt', 'camps_stacked',\n",
       "       'buybacks', 'assists', 'match_id', 'start_time', 'win', 'hero_id',\n",
       "       'account_id', 'leaguename', 'hero_id_3', 'hero_id_5', 'hero_id_7',\n",
       "       'hero_id_9', 'hero_id_16', 'hero_id_19', 'hero_id_20', 'hero_id_21',\n",
       "       'hero_id_23', 'hero_id_25', 'hero_id_26', 'hero_id_27', 'hero_id_30',\n",
       "       'hero_id_31', 'hero_id_32', 'hero_id_37', 'hero_id_42', 'hero_id_52',\n",
       "       'hero_id_62', 'hero_id_64', 'hero_id_65', 'hero_id_66', 'hero_id_68',\n",
       "       'hero_id_75', 'hero_id_79', 'hero_id_84', 'hero_id_86', 'hero_id_97',\n",
       "       'hero_id_101', 'hero_id_103', 'hero_id_107', 'hero_id_110',\n",
       "       'hero_id_111', 'hero_id_119', 'hero_id_121'],\n",
       "      dtype='object')"
      ]
     },
     "execution_count": 68,
     "metadata": {},
     "output_type": "execute_result"
    }
   ],
   "source": [
    "df.columns"
   ]
  },
  {
   "cell_type": "code",
   "execution_count": 79,
   "metadata": {},
   "outputs": [
    {
     "name": "stdout",
     "output_type": "stream",
     "text": [
      "Accuracy:  0.5454545454545454\n",
      "Loss:  9.418891859265456\n",
      "Confusion Matrix:\n",
      "[[ 3 12]\n",
      " [ 1  6]]\n"
     ]
    }
   ],
   "source": [
    "picked_train = df_train[['xp_per_min', 'tower_damage', 'sen_destroyed',\n",
    "       'obs_destroyed', 'last_hits', 'kills', 'gold_per_min','deaths', 'assists']]\n",
    "picked_test = df_test[['xp_per_min', 'tower_damage', 'sen_destroyed',\n",
    "       'obs_destroyed', 'last_hits', 'kills', 'gold_per_min','deaths', 'assists']]\n",
    "\n",
    "scaler = StandardScaler()\n",
    "scaled_train = scaler.fit_transform(picked_train)\n",
    "scaled_test = scaler.transform(picked_test)\n",
    "\n",
    "picked_lr = SGDClassifier(max_iter=10000, loss='log')\n",
    "picked_lr.fit(scaled_train, y_train)\n",
    "pick_labels = picked_lr.predict(scaled_test)\n",
    "pick_prob = picked_lr.predict_proba(scaled_test)\n",
    "\n",
    "\n",
    "\n",
    "pick_null_accuracy = accuracy_score(y_test, pick_labels)\n",
    "pick_loss = log_loss(y_test, pick_prob)\n",
    "pick_cm = confusion_matrix(y_test, pick_labels)\n",
    "\n",
    "print('Accuracy: ',pick_null_accuracy)\n",
    "print('Loss: ', pick_loss)\n",
    "print('Confusion Matrix:')\n",
    "print(cm)"
   ]
  },
  {
   "cell_type": "code",
   "execution_count": 80,
   "metadata": {},
   "outputs": [
    {
     "data": {
      "text/plain": [
       "Text(0, 0.5, 'True Positive Rate')"
      ]
     },
     "execution_count": 80,
     "metadata": {},
     "output_type": "execute_result"
    },
    {
     "data": {
      "image/png": "[encoded data removed]",
      "text/plain": [
       "<Figure size 432x288 with 1 Axes>"
      ]
     },
     "metadata": {
      "needs_background": "light"
     },
     "output_type": "display_data"
    }
   ],
   "source": [
    "# analysis the results\n",
    "\n",
    "# turn multiclass problem into binary problem\n",
    "pick_prob = 1.0 - pick_prob[:, 0]\n",
    "y_test_1 = [0 if y == 0 else 1 for y in y_test]\n",
    "\n",
    "fpr, tpr, _ = roc_curve(y_test_1, pick_prob)\n",
    "\n",
    "plt.plot(fpr, tpr)\n",
    "plt.plot([0.0, 1.0], [0.0, 1.0])\n",
    "plt.xlabel(\"False Positive Rate\", fontsize=16)\n",
    "plt.ylabel(\"True Positive Rate\", fontsize=16)\n"
   ]
  },
  {
   "cell_type": "markdown",
   "metadata": {},
   "source": [
    "### Results and Conculsion\n",
    "\n",
    "When comparing the feature selected Greedy Algorithm and Our Domain Knowledge based model, there are better results from the hand picked features. This result is better because the graph of False Positive Rate vs True Posiitve Rate is above the line middle line meaning that there are more True Positive results than False Negative.\n",
    "\n",
    "Reasons why this isn't better \n",
    "\n",
    "There could be factors that aren't expressed in the data that lead to winning, thses could be:\n",
    "- Better players, meaning that a player is able to exploit a winning team to turn it around with lower stats\n",
    "- Hail Mary Plays, meaning breaking the Tier 3s and 1 Tier 4 to base race to victory, ending the game with lower stats for tower damage and xp per minute\n",
    "- Winning teams choking, and making mistakes that cause them to lose with an unfavoriable position\n",
    "\n",
    "Our static end of game statistics do not show how the game changed over time, what items each hero had, and how the teams fights broke down. In order to create data we would either need a system like Valve's Dota Plus client which actively pulls active game data to predict which items should be bought, and where to push. Or a deeper scrape of DotaBuff.com to get hero positions during the game and timings of actions.\n",
    " \n",
    "### Further Questions\n",
    "\n",
    "Based on these general stats we can predict the likelihood of a team winning by only about 54%. If we were able to gather additional data about items, positions, and whose alive vs dead for likelihood of pushes we could actively predict a game from say the 10 minute mark onwards. Additionaly, OG was creditited for their the first consecutive back to back, with the same roster TI win ever by meming. "
   ]
  }
 ],
 "metadata": {
  "kernelspec": {
   "display_name": "Python 3",
   "language": "python",
   "name": "python3"
  },
  "language_info": {
   "codemirror_mode": {
    "name": "ipython",
    "version": 3
   },
   "file_extension": ".py",
   "mimetype": "text/x-python",
   "name": "python",
   "nbconvert_exporter": "python",
   "pygments_lexer": "ipython3",
   "version": "3.7.4"
  }
 },
 "nbformat": 4,
 "nbformat_minor": 2
}
